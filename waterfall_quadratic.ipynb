{
  "nbformat": 4,
  "nbformat_minor": 0,
  "metadata": {
    "colab": {
      "provenance": [],
      "authorship_tag": "ABX9TyOV0uKtTbZwdsqc0Ik//pqc",
      "include_colab_link": true
    },
    "kernelspec": {
      "name": "python3",
      "display_name": "Python 3"
    },
    "language_info": {
      "name": "python"
    }
  },
  "cells": [
    {
      "cell_type": "markdown",
      "metadata": {
        "id": "view-in-github",
        "colab_type": "text"
      },
      "source": [
        "<a href=\"https://colab.research.google.com/github/mohith292005/EXP-2/blob/main/waterfall_quadratic.ipynb\" target=\"_parent\"><img src=\"https://colab.research.google.com/assets/colab-badge.svg\" alt=\"Open In Colab\"/></a>"
      ]
    },
    {
      "cell_type": "code",
      "execution_count": 2,
      "metadata": {
        "colab": {
          "base_uri": "https://localhost:8080/"
        },
        "id": "4DUOtdY1K970",
        "outputId": "3030b0ac-206d-40fe-98e8-2758386d3b34"
      },
      "outputs": [
        {
          "output_type": "stream",
          "name": "stdout",
          "text": [
            "Solving: 1x^2 + (-5)x + (6) = 0\n",
            "No solution.\n"
          ]
        }
      ],
      "source": [
        "import math\n",
        "from cmath import sqrt as csqrt\n",
        "def solve_quadratic(a, b, c):\n",
        "  if a == 0.0:\n",
        "    if b == 0.0:\n",
        "      if c == 0.0:\n",
        "        return \"Infinite solutions.\"\n",
        "  return \"No solution.\"\n",
        "  return f\"Linear root: {-c / b:.4f}\"\n",
        "  d = b*b - 4*a*c\n",
        "  if d > 0:\n",
        "    r1 = (-b + math.sqrt(d)) / (2*a)\n",
        "    r2 = (-b - math.sqrt(d)) / (2*a)\n",
        "    return f\"Two real roots: {r1:.4f} and {r2:.4f}\"\n",
        "  if d == 0:\n",
        "    r = -b / (2*a)\n",
        "  return f\"One real root: {r:.4f}\"\n",
        "  r1 = (-b + csqrt(d)) / (2*a)\n",
        "  r2 = (-b - csqrt(d)) / (2*a)\n",
        "  return (\n",
        " f\"Complex roots: {r1.real:.4f} {'+' if r1.imag >= 0 else '-'} {abs(r1.imag):.4f}i \"\n",
        " f\"and {r2.real:.4f} {'+' if r2.imag >= 0 else '-'} {abs(r2.imag):.4f}i\"\n",
        " )\n",
        "def main():\n",
        " a, b, c = 1, -5, 6\n",
        " print(f\"Solving: {a}x^2 + ({b})x + ({c}) = 0\")\n",
        " print(solve_quadratic(a, b, c))\n",
        "if __name__ == \"__main__\":\n",
        " main()"
      ]
    }
  ]
}